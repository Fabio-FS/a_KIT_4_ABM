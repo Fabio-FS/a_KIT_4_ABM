{
 "cells": [
  {
   "cell_type": "code",
   "execution_count": 1,
   "id": "d7a256d0",
   "metadata": {},
   "outputs": [],
   "source": [
    "import KIT_4_ABM as kit"
   ]
  },
  {
   "cell_type": "code",
   "execution_count": 2,
   "id": "31083ecc",
   "metadata": {},
   "outputs": [
    {
     "name": "stdout",
     "output_type": "stream",
     "text": [
      "0\n",
      "<class 'numpy.float64'>\n",
      "()\n",
      "0.0005874600913486905\n",
      "_____________\n"
     ]
    },
    {
     "ename": "IndexError",
     "evalue": "invalid index to scalar variable.",
     "output_type": "error",
     "traceback": [
      "\u001b[1;31m---------------------------------------------------------------------------\u001b[0m",
      "\u001b[1;31mIndexError\u001b[0m                                Traceback (most recent call last)",
      "\u001b[1;32mc:\\Users\\nel_t\\Documents\\WORK\\PROJECTS\\a_KIT_4_ABM\\RUNME.ipynb Cell 2\u001b[0m line \u001b[0;36m5\n\u001b[0;32m      <a href='vscode-notebook-cell:/c%3A/Users/nel_t/Documents/WORK/PROJECTS/a_KIT_4_ABM/RUNME.ipynb#W1sZmlsZQ%3D%3D?line=2'>3</a>\u001b[0m \u001b[39mfor\u001b[39;00m i \u001b[39min\u001b[39;00m \u001b[39mrange\u001b[39m(n_trials):\n\u001b[0;32m      <a href='vscode-notebook-cell:/c%3A/Users/nel_t/Documents/WORK/PROJECTS/a_KIT_4_ABM/RUNME.ipynb#W1sZmlsZQ%3D%3D?line=3'>4</a>\u001b[0m     \u001b[39mprint\u001b[39m(i)\n\u001b[1;32m----> <a href='vscode-notebook-cell:/c%3A/Users/nel_t/Documents/WORK/PROJECTS/a_KIT_4_ABM/RUNME.ipynb#W1sZmlsZQ%3D%3D?line=4'>5</a>\u001b[0m     kit\u001b[39m.\u001b[39;49mrun_sim(P_lay, P_dyn, P_sim, P_rec)\n\u001b[0;32m      <a href='vscode-notebook-cell:/c%3A/Users/nel_t/Documents/WORK/PROJECTS/a_KIT_4_ABM/RUNME.ipynb#W1sZmlsZQ%3D%3D?line=5'>6</a>\u001b[0m     kit\u001b[39m.\u001b[39msave_all(i, n_trials\u001b[39m+\u001b[39m\u001b[39m1\u001b[39m, P_rec)\n",
      "File \u001b[1;32mc:\\Users\\nel_t\\Documents\\WORK\\PROJECTS\\a_KIT_4_ABM\\KIT_4_ABM.py:41\u001b[0m, in \u001b[0;36mrun_sim\u001b[1;34m(P_layer, P_dynamic, P_simulations, P_recordings)\u001b[0m\n\u001b[0;32m     38\u001b[0m list_of_rules \u001b[39m=\u001b[39m imprint_rules(G, P_dynamic)\n\u001b[0;32m     40\u001b[0m \u001b[39m#print(\"The graph is now completed. now running the simulations...\")\u001b[39;00m\n\u001b[1;32m---> 41\u001b[0m run_temporal_evolution(G, list_of_rules, P_simulations, P_recordings)\n",
      "File \u001b[1;32mc:\\Users\\nel_t\\Documents\\WORK\\PROJECTS\\a_KIT_4_ABM\\KIT_4_ABM.py:136\u001b[0m, in \u001b[0;36mrun_temporal_evolution\u001b[1;34m(G, list_of_rules, P_simulations, P_recordings)\u001b[0m\n\u001b[0;32m    134\u001b[0m \u001b[39m# save the state of the system AFTER the simulations end\u001b[39;00m\n\u001b[0;32m    135\u001b[0m \u001b[39mfor\u001b[39;00m record1 \u001b[39min\u001b[39;00m L_REC_1:\n\u001b[1;32m--> 136\u001b[0m     single_save(G, record1, \u001b[39m-\u001b[39;49m\u001b[39m1\u001b[39;49m)\n",
      "File \u001b[1;32mc:\\Users\\nel_t\\Documents\\WORK\\PROJECTS\\a_KIT_4_ABM\\Save_Functions.py:67\u001b[0m, in \u001b[0;36msingle_save\u001b[1;34m(G, P_rec, tick, Delta_T)\u001b[0m\n\u001b[0;32m     65\u001b[0m \u001b[39mtry\u001b[39;00m:\n\u001b[0;32m     66\u001b[0m     function \u001b[39m=\u001b[39m saving_dictionary[name]\n\u001b[1;32m---> 67\u001b[0m     function(G, P_rec)  \u001b[39m# Call the function and save the results in P_rec[\"DATA\"]\u001b[39;00m\n\u001b[0;32m     68\u001b[0m \u001b[39mexcept\u001b[39;00m \u001b[39mKeyError\u001b[39;00m:\n\u001b[0;32m     69\u001b[0m     \u001b[39mprint\u001b[39m(\u001b[39m\"\u001b[39m\u001b[39mERROR: \u001b[39m\u001b[39m\"\u001b[39m \u001b[39m+\u001b[39m name \u001b[39m+\u001b[39m \u001b[39m\"\u001b[39m\u001b[39m NOT IMPLEMENTED YET! NUUUUUU\u001b[39m\u001b[39m\"\u001b[39m)\n",
      "File \u001b[1;32mc:\\Users\\nel_t\\Documents\\WORK\\PROJECTS\\a_KIT_4_ABM\\Save_Functions.py:136\u001b[0m, in \u001b[0;36msave_homophily\u001b[1;34m(G, P_rec)\u001b[0m\n\u001b[0;32m    134\u001b[0m \u001b[39mdef\u001b[39;00m \u001b[39msave_homophily\u001b[39m(G,P_rec):\n\u001b[0;32m    135\u001b[0m     RES \u001b[39m=\u001b[39m calc_H(G[P_rec[\u001b[39m\"\u001b[39m\u001b[39mlayer\u001b[39m\u001b[39m\"\u001b[39m]], P_rec[\u001b[39m\"\u001b[39m\u001b[39mtarget\u001b[39m\u001b[39m\"\u001b[39m])\n\u001b[1;32m--> 136\u001b[0m     save_in_dict(P_rec, \u001b[39m\"\u001b[39;49m\u001b[39mDATA\u001b[39;49m\u001b[39m\"\u001b[39;49m, RES)\n",
      "File \u001b[1;32mc:\\Users\\nel_t\\Documents\\WORK\\PROJECTS\\a_KIT_4_ABM\\Save_Functions.py:80\u001b[0m, in \u001b[0;36msave_in_dict\u001b[1;34m(temp, key, value)\u001b[0m\n\u001b[0;32m     78\u001b[0m \u001b[39mprint\u001b[39m(value)\n\u001b[0;32m     79\u001b[0m \u001b[39mprint\u001b[39m(\u001b[39m\"\u001b[39m\u001b[39m_____________\u001b[39m\u001b[39m\"\u001b[39m)\n\u001b[1;32m---> 80\u001b[0m value \u001b[39m=\u001b[39m value[\u001b[39m0\u001b[39;49m]\n\u001b[0;32m     81\u001b[0m \u001b[39mprint\u001b[39m(\u001b[39mtype\u001b[39m(value))\n\u001b[0;32m     82\u001b[0m \u001b[39mprint\u001b[39m(value\u001b[39m.\u001b[39mshape)\n",
      "\u001b[1;31mIndexError\u001b[0m: invalid index to scalar variable."
     ]
    }
   ],
   "source": [
    "P_lay, P_dyn, P_sim, P_rec = kit.import_parameters(\"PAR_desired.json\")\n",
    "n_trials = 2\n",
    "for i in range(n_trials):\n",
    "    print(i)\n",
    "    kit.run_sim(P_lay, P_dyn, P_sim, P_rec)\n",
    "    kit.save_all(i, n_trials+1, P_rec)"
   ]
  },
  {
   "cell_type": "code",
   "execution_count": 4,
   "id": "97ae578d",
   "metadata": {},
   "outputs": [
    {
     "name": "stdout",
     "output_type": "stream",
     "text": [
      "Top-level items in the HDF5 file:\n",
      "R\n"
     ]
    }
   ],
   "source": [
    "import h5py\n",
    "\n",
    "file_path = \"SIRB_beta_0_02_01_h_0_betasymm_01.h5\"  # Replace with the path to your HDF5 file\n",
    "with h5py.File(file_path, 'r') as file:\n",
    "    # List all the top-level groups or datasets in the file\n",
    "    print(\"Top-level items in the HDF5 file:\")\n",
    "    for item_name in file:\n",
    "        print(item_name)\n",
    "\n",
    "    # You can also inspect the type and shape of datasets if they exist\n",
    "    dataset_name = 'dataset_name'  # Replace with the actual dataset name\n",
    "    if dataset_name in file:\n",
    "        dataset = file[dataset_name]\n",
    "        print(f\"Dataset '{dataset_name}' information:\")\n",
    "        print(f\"Shape: {dataset.shape}\")\n",
    "        print(f\"Data type: {dataset.dtype}\")\n",
    "\n",
    "    # You can also inspect attributes of datasets or groups\n",
    "    group_name = 'group_name'  # Replace with the actual group name\n",
    "    if group_name in file:\n",
    "        group = file[group_name]\n",
    "        print(f\"Attributes of group '{group_name}':\")\n",
    "        for attr_name, attr_value in group.attrs.items():\n",
    "            print(f\"{attr_name}: {attr_value}\")"
   ]
  },
  {
   "cell_type": "code",
   "execution_count": 3,
   "id": "d3f69ba5",
   "metadata": {},
   "outputs": [],
   "source": [
    "# read the \"SIRB_beta_0_02_01_h_0_betasymm_01.h5\" file:\n",
    "\n",
    "import h5py\n",
    "import numpy as np\n",
    "import matplotlib.pyplot as plt\n",
    "\n",
    "filename = \"SIRB_beta_0_02_01_h_0_betasymm_01.h5\"\n",
    "with h5py.File(filename, 'r') as file:\n",
    "    # Define a function to print dataset names\n",
    "    def print_dataset_names(name):\n",
    "        if isinstance(file[name], h5py.Dataset):\n",
    "            print(name)\n",
    "\n",
    "    # Visit all items in the file to print dataset names\n",
    "    file.visit(print_dataset_names)"
   ]
  },
  {
   "cell_type": "code",
   "execution_count": 10,
   "id": "8429d980",
   "metadata": {},
   "outputs": [
    {
     "name": "stdout",
     "output_type": "stream",
     "text": [
      "{'N': 3, 'note': \"the default is to save nothing, and the file name is 'none.txt' and it will be empty, default DT = 0, which means not to save anything runtime\", 'filename': 'SIRB_beta_0_02_01_h_0_betasymm_01.txt', 'Recording_0': {'END': 'True', 'func': 'frac', 'target_fraction': 3, 'layer': 0, 'target': 'health_status', 'name': 'R', 'BEGIN': 'False', 'DT': 0, 'DATA': array([0.63], dtype=object), 'count': 1}, 'Recording_1': {'END': 'True', 'func': 'homophily', 'layer': 0, 'target': 'behavior_status', 'name': 'H', 'BEGIN': 'False', 'DT': 0, 'DATA': array([0.005136907141887859], dtype=object), 'count': 1}, 'Recording_2': {'END': 'True', 'func': 'variance', 'layer': 0, 'target': 'behavior_status', 'name': 'V', 'BEGIN': 'False', 'DT': 0, 'DATA': array([0.212297541527367], dtype=object), 'count': 1}}\n"
     ]
    }
   ],
   "source": [
    "print(P_rec)"
   ]
  },
  {
   "cell_type": "code",
   "execution_count": 4,
   "id": "14edd291",
   "metadata": {},
   "outputs": [
    {
     "name": "stdout",
     "output_type": "stream",
     "text": [
      "[]\n"
     ]
    }
   ],
   "source": [
    "with h5py.File(filename, 'r') as file:\n",
    "    # print all the names of the datasets in the file\n",
    "    print(list(file.keys()))"
   ]
  },
  {
   "cell_type": "code",
   "execution_count": 7,
   "metadata": {},
   "outputs": [
    {
     "data": {
      "text/plain": [
       "781250"
      ]
     },
     "execution_count": 7,
     "metadata": {},
     "output_type": "execute_result"
    }
   ],
   "source": [
    "(25)**3*50"
   ]
  },
  {
   "cell_type": "code",
   "execution_count": 8,
   "id": "eefe283a",
   "metadata": {},
   "outputs": [],
   "source": [
    "import numpy as np\n",
    "A = np.Inf\n",
    "B = np.Inf\n",
    "if(A == B):\n",
    "    print(\"yes\")"
   ]
  },
  {
   "cell_type": "code",
   "execution_count": 24,
   "id": "5f75dcce",
   "metadata": {},
   "outputs": [
    {
     "name": "stdout",
     "output_type": "stream",
     "text": [
      "<class 'numpy.ndarray'>\n"
     ]
    }
   ],
   "source": [
    "A = np.array([[1,2,3], [4,5,6]])\n",
    "print(type(A))\n",
    "\n"
   ]
  },
  {
   "cell_type": "code",
   "execution_count": 31,
   "id": "e2c7e616",
   "metadata": {},
   "outputs": [],
   "source": [
    "# I want to create an empty np.array of size n, where they entry are of the same type of \"A\"\n",
    "\n",
    "B = np.empty(2, dtype=object)"
   ]
  },
  {
   "cell_type": "code",
   "execution_count": 32,
   "id": "dcd178b9",
   "metadata": {},
   "outputs": [
    {
     "data": {
      "text/plain": [
       "numpy.ndarray"
      ]
     },
     "execution_count": 32,
     "metadata": {},
     "output_type": "execute_result"
    }
   ],
   "source": [
    "C = np.array(B)\n",
    "type(C)"
   ]
  },
  {
   "cell_type": "code",
   "execution_count": 33,
   "id": "5337d78d",
   "metadata": {},
   "outputs": [
    {
     "data": {
      "text/plain": [
       "array([None, None], dtype=object)"
      ]
     },
     "execution_count": 33,
     "metadata": {},
     "output_type": "execute_result"
    }
   ],
   "source": [
    "C"
   ]
  },
  {
   "cell_type": "code",
   "execution_count": null,
   "id": "90241fd7",
   "metadata": {},
   "outputs": [],
   "source": []
  }
 ],
 "metadata": {
  "celltoolbar": "Initialization Cell",
  "kernelspec": {
   "display_name": "Python 3 (ipykernel)",
   "language": "python",
   "name": "python3"
  },
  "language_info": {
   "codemirror_mode": {
    "name": "ipython",
    "version": 3
   },
   "file_extension": ".py",
   "mimetype": "text/x-python",
   "name": "python",
   "nbconvert_exporter": "python",
   "pygments_lexer": "ipython3",
   "version": "3.8.16"
  },
  "toc": {
   "base_numbering": 1,
   "nav_menu": {},
   "number_sections": true,
   "sideBar": true,
   "skip_h1_title": false,
   "title_cell": "Table of Contents",
   "title_sidebar": "Contents",
   "toc_cell": false,
   "toc_position": {},
   "toc_section_display": true,
   "toc_window_display": true
  }
 },
 "nbformat": 4,
 "nbformat_minor": 5
}
