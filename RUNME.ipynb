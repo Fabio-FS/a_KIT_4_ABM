{
 "cells": [
  {
   "cell_type": "code",
   "execution_count": 1,
   "id": "d7a256d0",
   "metadata": {},
   "outputs": [],
   "source": [
    "import numpy as np\n",
    "import matplotlib.pyplot as plt\n",
    "\n",
    "import KIT_4_ABM as kit"
   ]
  },
  {
   "cell_type": "code",
   "execution_count": 9,
   "id": "31083ecc",
   "metadata": {},
   "outputs": [
    {
     "name": "stdout",
     "output_type": "stream",
     "text": [
      "this should not be used... only np arrays?\n",
      "this should not be used... only np arrays?\n"
     ]
    },
    {
     "ename": "ValueError",
     "evalue": "could not convert string to float: \"the default is to save nothing, and the file name is 'none.txt' and it will be empty, default DT = 0, which means not to save anything runtime\"",
     "output_type": "error",
     "traceback": [
      "\u001b[1;31m---------------------------------------------------------------------------\u001b[0m",
      "\u001b[1;31mValueError\u001b[0m                                Traceback (most recent call last)",
      "\u001b[1;32mc:\\Users\\nel_t\\Documents\\WORK\\PROJECTS\\a_KIT_4_ABM\\RUNME.ipynb Cell 2\u001b[0m line \u001b[0;36m3\n\u001b[0;32m      <a href='vscode-notebook-cell:/c%3A/Users/nel_t/Documents/WORK/PROJECTS/a_KIT_4_ABM/RUNME.ipynb#W1sZmlsZQ%3D%3D?line=0'>1</a>\u001b[0m P_lay, P_dyn, P_sim, P_rec \u001b[39m=\u001b[39m kit\u001b[39m.\u001b[39mimport_parameters(\u001b[39m\"\u001b[39m\u001b[39mPAR_desired.json\u001b[39m\u001b[39m\"\u001b[39m)\n\u001b[0;32m      <a href='vscode-notebook-cell:/c%3A/Users/nel_t/Documents/WORK/PROJECTS/a_KIT_4_ABM/RUNME.ipynb#W1sZmlsZQ%3D%3D?line=1'>2</a>\u001b[0m results \u001b[39m=\u001b[39m kit\u001b[39m.\u001b[39mrun_sim(P_lay, P_dyn, P_sim, P_rec)\n\u001b[1;32m----> <a href='vscode-notebook-cell:/c%3A/Users/nel_t/Documents/WORK/PROJECTS/a_KIT_4_ABM/RUNME.ipynb#W1sZmlsZQ%3D%3D?line=2'>3</a>\u001b[0m kit\u001b[39m.\u001b[39;49msave_all(\u001b[39m0\u001b[39;49m, \u001b[39m1\u001b[39;49m, \u001b[39m\"\u001b[39;49m\u001b[39mnamefile.h5\u001b[39;49m\u001b[39m\"\u001b[39;49m, \u001b[39m*\u001b[39;49m\u001b[39m*\u001b[39;49mresults)\n",
      "File \u001b[1;32mc:\\Users\\nel_t\\Documents\\WORK\\PROJECTS\\a_KIT_4_ABM\\Save_Functions.py:207\u001b[0m, in \u001b[0;36msave_all\u001b[1;34m(i, n_trials, name, **kwargs)\u001b[0m\n\u001b[0;32m    205\u001b[0m     save_array(name, i, key, value)\n\u001b[0;32m    206\u001b[0m \u001b[39melif\u001b[39;00m np\u001b[39m.\u001b[39misscalar(value):\n\u001b[1;32m--> 207\u001b[0m     save_scalar(name, i, n_trials, key, value)\n",
      "File \u001b[1;32mc:\\Users\\nel_t\\Documents\\WORK\\PROJECTS\\a_KIT_4_ABM\\Save_Functions.py:186\u001b[0m, in \u001b[0;36msave_scalar\u001b[1;34m(name, i, n_trials, key, value)\u001b[0m\n\u001b[0;32m    184\u001b[0m         \u001b[39melse\u001b[39;00m:\n\u001b[0;32m    185\u001b[0m             temp \u001b[39m=\u001b[39m np\u001b[39m.\u001b[39mzeros(n_trials)\n\u001b[1;32m--> 186\u001b[0m             temp[i] \u001b[39m=\u001b[39m value\n\u001b[0;32m    187\u001b[0m             f\u001b[39m.\u001b[39mcreate_dataset(key, data\u001b[39m=\u001b[39mtemp)\n\u001b[0;32m    188\u001b[0m \u001b[39mreturn\u001b[39;00m \u001b[39mNone\u001b[39;00m\n",
      "\u001b[1;31mValueError\u001b[0m: could not convert string to float: \"the default is to save nothing, and the file name is 'none.txt' and it will be empty, default DT = 0, which means not to save anything runtime\""
     ]
    }
   ],
   "source": [
    "P_lay, P_dyn, P_sim, P_rec = kit.import_parameters(\"PAR_desired.json\")\n",
    "results = kit.run_sim(P_lay, P_dyn, P_sim, P_rec)\n",
    "kit.save_all(0, 1, \"namefile.h5\", **results)"
   ]
  },
  {
   "cell_type": "code",
   "execution_count": 3,
   "id": "97ae578d",
   "metadata": {},
   "outputs": [
    {
     "name": "stdout",
     "output_type": "stream",
     "text": [
      "{'N': 3, 'note': \"the default is to save nothing, and the file name is 'none.txt' and it will be empty, default DT = 0, which means not to save anything runtime\", 'filename': 'SIRB_beta_0_02_01_h_0_betasymm_01.txt', 'Recording_0': {'END': 'True', 'func': 'frac', 'target_fraction': 3, 'layer': 0, 'target': 'health_status', 'name': 'R', 'BEGIN': 'False', 'DT': 0, 'DATA': array([0.6], dtype=object), 'count': 1}, 'Recording_1': {'END': 'True', 'func': 'homophily', 'layer': 0, 'target': 'behavior_status', 'name': 'H', 'BEGIN': 'False', 'DT': 0, 'DATA': array([-0.011894209164780678], dtype=object), 'count': 1}, 'Recording_2': {'END': 'True', 'func': 'variance', 'layer': 0, 'target': 'behavior_status', 'name': 'V', 'BEGIN': 'False', 'DT': 0, 'DATA': array([0.20276762712011084], dtype=object), 'count': 1}}\n"
     ]
    }
   ],
   "source": [
    "print(results)"
   ]
  },
  {
   "cell_type": "code",
   "execution_count": 8,
   "id": "d3f69ba5",
   "metadata": {},
   "outputs": [
    {
     "data": {
      "text/plain": [
       "0.20276762712011084"
      ]
     },
     "execution_count": 8,
     "metadata": {},
     "output_type": "execute_result"
    }
   ],
   "source": [
    "results[\"Recording_2\"][\"DATA\"][0]"
   ]
  },
  {
   "cell_type": "code",
   "execution_count": null,
   "id": "8429d980",
   "metadata": {},
   "outputs": [],
   "source": []
  }
 ],
 "metadata": {
  "celltoolbar": "Initialization Cell",
  "kernelspec": {
   "display_name": "Python 3 (ipykernel)",
   "language": "python",
   "name": "python3"
  },
  "language_info": {
   "codemirror_mode": {
    "name": "ipython",
    "version": 3
   },
   "file_extension": ".py",
   "mimetype": "text/x-python",
   "name": "python",
   "nbconvert_exporter": "python",
   "pygments_lexer": "ipython3",
   "version": "3.8.16"
  },
  "toc": {
   "base_numbering": 1,
   "nav_menu": {},
   "number_sections": true,
   "sideBar": true,
   "skip_h1_title": false,
   "title_cell": "Table of Contents",
   "title_sidebar": "Contents",
   "toc_cell": false,
   "toc_position": {},
   "toc_section_display": true,
   "toc_window_display": true
  }
 },
 "nbformat": 4,
 "nbformat_minor": 5
}
