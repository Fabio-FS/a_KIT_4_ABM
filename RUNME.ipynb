{
 "cells": [
  {
   "cell_type": "code",
   "execution_count": 1,
   "id": "d7a256d0",
   "metadata": {},
   "outputs": [],
   "source": [
    "import numpy as np\n",
    "import matplotlib.pyplot as plt\n",
    "import h5py\n",
    "import KIT_4_ABM as kit"
   ]
  },
  {
   "cell_type": "code",
   "execution_count": 2,
   "id": "31083ecc",
   "metadata": {},
   "outputs": [
    {
     "name": "stdout",
     "output_type": "stream",
     "text": [
      "saving R\n",
      "value: [0.48]\n",
      "saving R\n",
      "(1,)\n",
      "[0.48]\n",
      "saving H\n",
      "value: [-0.009215874192737727]\n",
      "saving H\n",
      "(1,)\n",
      "[-0.009215874192737727]\n",
      "saving V\n",
      "value: [0.2126159217347218]\n",
      "saving V\n",
      "(1,)\n",
      "[0.2126159217347218]\n"
     ]
    }
   ],
   "source": [
    "P_lay, P_dyn, P_sim, P_rec = kit.import_parameters(\"PAR_desired.json\")\n",
    "kit.run_sim(P_lay, P_dyn, P_sim, P_rec)\n",
    "kit.save_all(0, 1, P_rec)"
   ]
  },
  {
   "cell_type": "code",
   "execution_count": 3,
   "id": "97ae578d",
   "metadata": {},
   "outputs": [
    {
     "name": "stdout",
     "output_type": "stream",
     "text": [
      "Top-level items in the HDF5 file:\n"
     ]
    }
   ],
   "source": [
    "file_path = \"SIRB_beta_0_02_01_h_0_betasymm_01.h5\"  # Replace with the path to your HDF5 file\n",
    "with h5py.File(file_path, 'r') as file:\n",
    "    # List all the top-level groups or datasets in the file\n",
    "    print(\"Top-level items in the HDF5 file:\")\n",
    "    for item_name in file:\n",
    "        print(item_name)\n",
    "\n",
    "    # You can also inspect the type and shape of datasets if they exist\n",
    "    dataset_name = 'dataset_name'  # Replace with the actual dataset name\n",
    "    if dataset_name in file:\n",
    "        dataset = file[dataset_name]\n",
    "        print(f\"Dataset '{dataset_name}' information:\")\n",
    "        print(f\"Shape: {dataset.shape}\")\n",
    "        print(f\"Data type: {dataset.dtype}\")\n",
    "\n",
    "    # You can also inspect attributes of datasets or groups\n",
    "    group_name = 'group_name'  # Replace with the actual group name\n",
    "    if group_name in file:\n",
    "        group = file[group_name]\n",
    "        print(f\"Attributes of group '{group_name}':\")\n",
    "        for attr_name, attr_value in group.attrs.items():\n",
    "            print(f\"{attr_name}: {attr_value}\")"
   ]
  },
  {
   "cell_type": "code",
   "execution_count": 3,
   "id": "d3f69ba5",
   "metadata": {},
   "outputs": [],
   "source": [
    "# read the \"SIRB_beta_0_02_01_h_0_betasymm_01.h5\" file:\n",
    "\n",
    "import h5py\n",
    "import numpy as np\n",
    "import matplotlib.pyplot as plt\n",
    "\n",
    "filename = \"SIRB_beta_0_02_01_h_0_betasymm_01.h5\"\n",
    "with h5py.File(filename, 'r') as file:\n",
    "    # Define a function to print dataset names\n",
    "    def print_dataset_names(name):\n",
    "        if isinstance(file[name], h5py.Dataset):\n",
    "            print(name)\n",
    "\n",
    "    # Visit all items in the file to print dataset names\n",
    "    file.visit(print_dataset_names)"
   ]
  },
  {
   "cell_type": "code",
   "execution_count": 10,
   "id": "8429d980",
   "metadata": {},
   "outputs": [
    {
     "name": "stdout",
     "output_type": "stream",
     "text": [
      "{'N': 3, 'note': \"the default is to save nothing, and the file name is 'none.txt' and it will be empty, default DT = 0, which means not to save anything runtime\", 'filename': 'SIRB_beta_0_02_01_h_0_betasymm_01.txt', 'Recording_0': {'END': 'True', 'func': 'frac', 'target_fraction': 3, 'layer': 0, 'target': 'health_status', 'name': 'R', 'BEGIN': 'False', 'DT': 0, 'DATA': array([0.63], dtype=object), 'count': 1}, 'Recording_1': {'END': 'True', 'func': 'homophily', 'layer': 0, 'target': 'behavior_status', 'name': 'H', 'BEGIN': 'False', 'DT': 0, 'DATA': array([0.005136907141887859], dtype=object), 'count': 1}, 'Recording_2': {'END': 'True', 'func': 'variance', 'layer': 0, 'target': 'behavior_status', 'name': 'V', 'BEGIN': 'False', 'DT': 0, 'DATA': array([0.212297541527367], dtype=object), 'count': 1}}\n"
     ]
    }
   ],
   "source": [
    "print(P_rec)"
   ]
  },
  {
   "cell_type": "code",
   "execution_count": 4,
   "id": "14edd291",
   "metadata": {},
   "outputs": [
    {
     "name": "stdout",
     "output_type": "stream",
     "text": [
      "[]\n"
     ]
    }
   ],
   "source": [
    "with h5py.File(filename, 'r') as file:\n",
    "    # print all the names of the datasets in the file\n",
    "    print(list(file.keys()))"
   ]
  },
  {
   "cell_type": "code",
   "execution_count": null,
   "id": "8121a1f3",
   "metadata": {},
   "outputs": [],
   "source": []
  }
 ],
 "metadata": {
  "celltoolbar": "Initialization Cell",
  "kernelspec": {
   "display_name": "Python 3 (ipykernel)",
   "language": "python",
   "name": "python3"
  },
  "language_info": {
   "codemirror_mode": {
    "name": "ipython",
    "version": 3
   },
   "file_extension": ".py",
   "mimetype": "text/x-python",
   "name": "python",
   "nbconvert_exporter": "python",
   "pygments_lexer": "ipython3",
   "version": "3.8.16"
  },
  "toc": {
   "base_numbering": 1,
   "nav_menu": {},
   "number_sections": true,
   "sideBar": true,
   "skip_h1_title": false,
   "title_cell": "Table of Contents",
   "title_sidebar": "Contents",
   "toc_cell": false,
   "toc_position": {},
   "toc_section_display": true,
   "toc_window_display": true
  }
 },
 "nbformat": 4,
 "nbformat_minor": 5
}
