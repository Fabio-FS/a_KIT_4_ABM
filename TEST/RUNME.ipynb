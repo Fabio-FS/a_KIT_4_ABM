{
 "cells": [
  {
   "cell_type": "code",
   "execution_count": 1,
   "id": "d7a256d0",
   "metadata": {},
   "outputs": [],
   "source": [
    "# set the absolute path where the KIT_4_ABM folder is located\n",
    "global_path = 'C:/Users/nel_t/Documents/WORK/PROJECTS/KIT_4_ABM'   # <--- CHANGE THIS PATH to the one on your computer\n",
    "code_path   = global_path + '/SRC'   # <--- CHANGE THIS PATH to the one on your computer\n",
    "\n",
    "# import the KIT_4_ABM package\n",
    "import sys\n",
    "sys.path.append(code_path)\n",
    "import KIT_4_ABM as kit"
   ]
  },
  {
   "cell_type": "code",
   "execution_count": 3,
   "id": "31083ecc",
   "metadata": {},
   "outputs": [
    {
     "name": "stdout",
     "output_type": "stream",
     "text": [
      "0\n"
     ]
    },
    {
     "ename": "KeyError",
     "evalue": "'DATA'",
     "output_type": "error",
     "traceback": [
      "\u001b[1;31m---------------------------------------------------------------------------\u001b[0m",
      "\u001b[1;31mKeyError\u001b[0m                                  Traceback (most recent call last)",
      "File \u001b[1;32m<timed exec>:6\u001b[0m\n",
      "File \u001b[1;32mC:\\Users/nel_t/Documents/WORK/PROJECTS/KIT_4_ABM/SRC\\Save_Functions.py:241\u001b[0m, in \u001b[0;36mwrite_h5\u001b[1;34m(i, n_trials, P_rec, Data)\u001b[0m\n\u001b[0;32m    239\u001b[0m P_rec_i \u001b[39m=\u001b[39m P_rec[\u001b[39m\"\u001b[39m\u001b[39mRecording_\u001b[39m\u001b[39m\"\u001b[39m \u001b[39m+\u001b[39m \u001b[39mstr\u001b[39m(i)]\n\u001b[0;32m    240\u001b[0m name \u001b[39m=\u001b[39m P_rec_i[\u001b[39m\"\u001b[39m\u001b[39mname\u001b[39m\u001b[39m\"\u001b[39m]\n\u001b[1;32m--> 241\u001b[0m value \u001b[39m=\u001b[39m P_rec_i[\u001b[39m\"\u001b[39;49m\u001b[39mDATA\u001b[39;49m\u001b[39m\"\u001b[39;49m]\n\u001b[0;32m    242\u001b[0m \u001b[39mprint\u001b[39m(\u001b[39m\"\u001b[39m\u001b[39msaving \u001b[39m\u001b[39m\"\u001b[39m \u001b[39m+\u001b[39m name)\n\u001b[0;32m    243\u001b[0m \u001b[39mprint\u001b[39m(\u001b[39m\"\u001b[39m\u001b[39mvalue: \u001b[39m\u001b[39m\"\u001b[39m \u001b[39m+\u001b[39m \u001b[39mstr\u001b[39m(value))\n",
      "\u001b[1;31mKeyError\u001b[0m: 'DATA'"
     ]
    }
   ],
   "source": [
    "%%time\n",
    "P_lay, P_dyn, P_sim, P_rec = kit.import_parameters(\"PAR_desired.json\")\n",
    "n_trials = 1\n",
    "for i in range(n_trials):\n",
    "    print(i)\n",
    "    res = kit.run_sim(P_lay, P_dyn, P_sim, P_rec)\n",
    "    #kit.write_h5(i, n_trials, P_rec, res)\n",
    "\n",
    "print(res.R.data)\n",
    "print(len(res.R.time))\n",
    "print(res.R.time)"
   ]
  },
  {
   "cell_type": "code",
   "execution_count": 7,
   "id": "97ae578d",
   "metadata": {},
   "outputs": [
    {
     "name": "stdout",
     "output_type": "stream",
     "text": [
      "['R']\n"
     ]
    }
   ],
   "source": [
    "attrs = [a for a in dir(res) if not a.startswith('_')]\n",
    "print(attrs)"
   ]
  },
  {
   "cell_type": "code",
   "execution_count": 20,
   "id": "582b29aa",
   "metadata": {},
   "outputs": [],
   "source": [
    "# I want to convert an np.array \"a\" of dtype=object to a np.array \"b\" of dtype=float\n",
    "import numpy as np\n",
    "b = np.array(a, dtype=float)"
   ]
  },
  {
   "cell_type": "code",
   "execution_count": null,
   "id": "44c3909d",
   "metadata": {},
   "outputs": [],
   "source": []
  },
  {
   "cell_type": "code",
   "execution_count": null,
   "id": "291d6b03",
   "metadata": {},
   "outputs": [],
   "source": []
  },
  {
   "cell_type": "code",
   "execution_count": 3,
   "id": "d3f69ba5",
   "metadata": {},
   "outputs": [],
   "source": [
    "# read the \"SIRB_beta_0_02_01_h_0_betasymm_01.h5\" file:\n",
    "\n",
    "import h5py\n",
    "import numpy as np\n",
    "import matplotlib.pyplot as plt\n",
    "\n",
    "filename = \"SIRB_beta_0_02_01_h_0_betasymm_01.h5\"\n",
    "with h5py.File(filename, 'r') as file:\n",
    "    # Define a function to print dataset names\n",
    "    def print_dataset_names(name):\n",
    "        if isinstance(file[name], h5py.Dataset):\n",
    "            print(name)\n",
    "\n",
    "    # Visit all items in the file to print dataset names\n",
    "    file.visit(print_dataset_names)"
   ]
  },
  {
   "cell_type": "code",
   "execution_count": 10,
   "id": "8429d980",
   "metadata": {},
   "outputs": [
    {
     "name": "stdout",
     "output_type": "stream",
     "text": [
      "{'N': 3, 'note': \"the default is to save nothing, and the file name is 'none.txt' and it will be empty, default DT = 0, which means not to save anything runtime\", 'filename': 'SIRB_beta_0_02_01_h_0_betasymm_01.txt', 'Recording_0': {'END': 'True', 'func': 'frac', 'target_fraction': 3, 'layer': 0, 'target': 'health_status', 'name': 'R', 'BEGIN': 'False', 'DT': 0, 'DATA': array([0.63], dtype=object), 'count': 1}, 'Recording_1': {'END': 'True', 'func': 'homophily', 'layer': 0, 'target': 'behavior_status', 'name': 'H', 'BEGIN': 'False', 'DT': 0, 'DATA': array([0.005136907141887859], dtype=object), 'count': 1}, 'Recording_2': {'END': 'True', 'func': 'variance', 'layer': 0, 'target': 'behavior_status', 'name': 'V', 'BEGIN': 'False', 'DT': 0, 'DATA': array([0.212297541527367], dtype=object), 'count': 1}}\n"
     ]
    }
   ],
   "source": []
  },
  {
   "cell_type": "code",
   "execution_count": 4,
   "id": "14edd291",
   "metadata": {},
   "outputs": [
    {
     "name": "stdout",
     "output_type": "stream",
     "text": [
      "[]\n"
     ]
    }
   ],
   "source": [
    "with h5py.File(filename, 'r') as file:\n",
    "    # print all the names of the datasets in the file\n",
    "    print(list(file.keys()))"
   ]
  },
  {
   "cell_type": "code",
   "execution_count": 6,
   "id": "90241fd7",
   "metadata": {},
   "outputs": [
    {
     "data": {
      "text/plain": [
       "array([inf])"
      ]
     },
     "execution_count": 6,
     "metadata": {},
     "output_type": "execute_result"
    }
   ],
   "source": [
    "Data.R_t"
   ]
  },
  {
   "cell_type": "code",
   "execution_count": 1,
   "id": "ab114d95",
   "metadata": {},
   "outputs": [
    {
     "name": "stdout",
     "output_type": "stream",
     "text": [
      "Top-level items in the HDF5 file:\n"
     ]
    }
   ],
   "source": [
    "import h5py\n",
    "\n",
    "file_path = \"SIRB_beta_0_02_01_h_0_betasymm_01.h5\"  # Replace with the path to your HDF5 file\n",
    "with h5py.File(file_path, 'r') as file:\n",
    "    # List all the top-level groups or datasets in the file\n",
    "    print(\"Top-level items in the HDF5 file:\")\n",
    "    for item_name in file:\n",
    "        print(item_name)\n",
    "\n",
    "    # You can also inspect the type and shape of datasets if they exist\n",
    "    dataset_name = 'dataset_name'  # Replace with the actual dataset name\n",
    "    if dataset_name in file:\n",
    "        dataset = file[dataset_name]\n",
    "        print(f\"Dataset '{dataset_name}' information:\")\n",
    "        print(f\"Shape: {dataset.shape}\")\n",
    "        print(f\"Data type: {dataset.dtype}\")\n",
    "\n",
    "    # You can also inspect attributes of datasets or groups\n",
    "    group_name = 'group_name'  # Replace with the actual group name\n",
    "    if group_name in file:\n",
    "        group = file[group_name]\n",
    "        print(f\"Attributes of group '{group_name}':\")\n",
    "        for attr_name, attr_value in group.attrs.items():\n",
    "            print(f\"{attr_name}: {attr_value}\")"
   ]
  },
  {
   "cell_type": "code",
   "execution_count": null,
   "id": "aecd9dc6",
   "metadata": {},
   "outputs": [],
   "source": []
  },
  {
   "cell_type": "code",
   "execution_count": null,
   "id": "0417f367",
   "metadata": {},
   "outputs": [],
   "source": []
  },
  {
   "cell_type": "code",
   "execution_count": null,
   "id": "54c37a6c",
   "metadata": {},
   "outputs": [],
   "source": []
  },
  {
   "cell_type": "code",
   "execution_count": null,
   "id": "73451872",
   "metadata": {},
   "outputs": [],
   "source": []
  },
  {
   "cell_type": "code",
   "execution_count": 2,
   "id": "ad5119c2",
   "metadata": {},
   "outputs": [
    {
     "name": "stdout",
     "output_type": "stream",
     "text": [
      "[array([0.99383692, 0.86884735, 0.3068987 ])\n",
      " array([0.26168801, 0.87079567, 0.29780181])\n",
      " array([0.8671568 , 0.33569018, 0.27408986])\n",
      " array([0.77231458, 0.6344441 , 0.36432713])\n",
      " array([0.3681716 , 0.78590602, 0.81312859])]\n"
     ]
    }
   ],
   "source": [
    "import numpy as np\n",
    "\n",
    "N = 5  # Number of elements in the outer array\n",
    "L = 3  # Length of each inner array\n",
    "\n",
    "# Create an empty array to hold the result\n",
    "result = np.empty(N, dtype=object)\n",
    "\n",
    "# Fill the array with arrays of length L\n",
    "for i in range(N):\n",
    "    result[i] = np.random.rand(L)  # You can use np.zeros(L) or any other array creation method here\n",
    "\n",
    "print(result)"
   ]
  },
  {
   "cell_type": "code",
   "execution_count": 3,
   "id": "d4e5207f",
   "metadata": {},
   "outputs": [
    {
     "data": {
      "text/plain": [
       "numpy.ndarray"
      ]
     },
     "execution_count": 3,
     "metadata": {},
     "output_type": "execute_result"
    }
   ],
   "source": [
    "type(result)"
   ]
  },
  {
   "cell_type": "code",
   "execution_count": 4,
   "id": "1fb20e25",
   "metadata": {},
   "outputs": [],
   "source": [
    "a = np.empty(N, dtype=object)"
   ]
  },
  {
   "cell_type": "code",
   "execution_count": 6,
   "id": "13b8bece",
   "metadata": {},
   "outputs": [],
   "source": [
    "a[0] = np.array([1,2,3])"
   ]
  },
  {
   "cell_type": "code",
   "execution_count": 8,
   "id": "34249c81",
   "metadata": {},
   "outputs": [
    {
     "data": {
      "text/plain": [
       "numpy.ndarray"
      ]
     },
     "execution_count": 8,
     "metadata": {},
     "output_type": "execute_result"
    }
   ],
   "source": [
    "type(a)"
   ]
  },
  {
   "cell_type": "code",
   "execution_count": null,
   "id": "a6d27ed4",
   "metadata": {},
   "outputs": [],
   "source": []
  }
 ],
 "metadata": {
  "celltoolbar": "Initialization Cell",
  "kernelspec": {
   "display_name": "Python 3 (ipykernel)",
   "language": "python",
   "name": "python3"
  },
  "language_info": {
   "codemirror_mode": {
    "name": "ipython",
    "version": 3
   },
   "file_extension": ".py",
   "mimetype": "text/x-python",
   "name": "python",
   "nbconvert_exporter": "python",
   "pygments_lexer": "ipython3",
   "version": "3.8.16"
  },
  "toc": {
   "base_numbering": 1,
   "nav_menu": {},
   "number_sections": true,
   "sideBar": true,
   "skip_h1_title": false,
   "title_cell": "Table of Contents",
   "title_sidebar": "Contents",
   "toc_cell": false,
   "toc_position": {},
   "toc_section_display": true,
   "toc_window_display": true
  }
 },
 "nbformat": 4,
 "nbformat_minor": 5
}
