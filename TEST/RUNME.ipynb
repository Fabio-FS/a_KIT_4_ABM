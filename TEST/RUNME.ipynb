{
 "cells": [
  {
   "cell_type": "code",
   "execution_count": 7,
   "id": "d7a256d0",
   "metadata": {},
   "outputs": [],
   "source": [
    "# set the absolute path where the KIT_4_ABM folder is located\n",
    "global_path = 'C:/Users/nel_t/Documents/WORK/PROJECTS/a_KIT_4_ABM'   # <--- CHANGE THIS PATH to the one on your computer\n",
    "code_path   = global_path + '/SRC'\n",
    "\n",
    "# import the KIT_4_ABM package\n",
    "import sys\n",
    "sys.path.append(code_path)\n",
    "import KIT_4_ABM as kit\n",
    "import pprint"
   ]
  },
  {
   "cell_type": "code",
   "execution_count": 11,
   "id": "31083ecc",
   "metadata": {},
   "outputs": [
    {
     "name": "stdout",
     "output_type": "stream",
     "text": [
      "0\n",
      "{'Simulation_0': {'ALL-data': array([[1, 2, 1, 1],\n",
      "       [1, 2, 1, 1],\n",
      "       [1, 2, 1, 1],\n",
      "       [1, 2, 1, 1],\n",
      "       [1, 2, 1, 1],\n",
      "       [1, 2, 2, 1],\n",
      "       [1, 2, 2, 1],\n",
      "       [1, 2, 2, 1],\n",
      "       [1, 2, 2, 1],\n",
      "       [1, 2, 2, 1],\n",
      "       [1, 2, 2, 1]]),\n",
      "                  'ALL-time': array([ 0,  1,  2,  3,  4,  5,  6,  7,  8,  9, -1])}}\n",
      "CPU times: total: 0 ns\n",
      "Wall time: 15 ms\n"
     ]
    }
   ],
   "source": [
    "%%time\n",
    "P_lay, P_dyn, P_sim, P_rec = kit.import_parameters(\"PAR_desired.json\")\n",
    "n_trials = 1\n",
    "for i in range(n_trials):\n",
    "    print(i)\n",
    "    res = kit.run_sim(P_lay, P_dyn, P_sim, P_rec)\n",
    "    kit.write_h5(i, P_rec, res)\n",
    "data = kit.load_data_from_h5('SIRB_beta_0_02_01_h_0_betasymm_01.h5')\n",
    "pprint.pprint(data)"
   ]
  },
  {
   "cell_type": "code",
   "execution_count": null,
   "id": "885e09c4",
   "metadata": {},
   "outputs": [],
   "source": []
  },
  {
   "cell_type": "code",
   "execution_count": null,
   "id": "9386ecd5",
   "metadata": {},
   "outputs": [],
   "source": []
  },
  {
   "cell_type": "code",
   "execution_count": 31,
   "id": "e0ef9d90",
   "metadata": {},
   "outputs": [],
   "source": [
    "def print_h5_data(h5_filename):\n",
    "    # Reading the HDF5 file\n",
    "    with h5py.File(h5_filename, 'r') as hf:\n",
    "        print(\"Data in the HDF5 file:\")\n",
    "        for simulation_name in hf.keys():\n",
    "            simulation_group = hf[simulation_name]\n",
    "            print(f\"\\nSimulation: {simulation_name}\")\n",
    "            for key in simulation_group.keys():\n",
    "                data = simulation_group[key][()]\n",
    "                if np.isscalar(data):\n",
    "                    print(f\"Scalar - {key}: {data}\")\n",
    "                elif isinstance(data, np.ndarray) and len(data.shape) == 1:\n",
    "                    print(f\"Array - {key}: {data}\")\n",
    "                elif isinstance(data, np.ndarray) and len(data.shape) > 1:\n",
    "                    print(f\"Matrix - {key}:\")\n",
    "                    print(data)\n"
   ]
  },
  {
   "cell_type": "code",
   "execution_count": 38,
   "id": "3e39a0d5",
   "metadata": {},
   "outputs": [
    {
     "name": "stdout",
     "output_type": "stream",
     "text": [
      "ALL <Save_Functions.Saves object at 0x0000020A37C940D0>\n",
      "data =  [[1 1 1 2]\n",
      " [1 1 1 2]\n",
      " [1 1 1 2]\n",
      " [1 2 1 3]\n",
      " [1 2 1 3]\n",
      " [1 2 1 3]\n",
      " [1 2 1 3]\n",
      " [1 2 1 3]\n",
      " [1 2 1 3]\n",
      " [1 2 1 3]\n",
      " [1 2 1 3]] \n",
      "time =  [ 0  1  2  3  4  5  6  7  8  9 -1]\n"
     ]
    }
   ],
   "source": [
    "save_data_to_h5(res, \"results.h5\", 0)"
   ]
  },
  {
   "cell_type": "code",
   "execution_count": 5,
   "id": "c4102e86",
   "metadata": {},
   "outputs": [
    {
     "name": "stdout",
     "output_type": "stream",
     "text": [
      "Data in the HDF5 file:\n",
      "\n",
      "Simulation: Simulation_0\n"
     ]
    }
   ],
   "source": [
    "print_h5_data('results.h5')"
   ]
  },
  {
   "cell_type": "code",
   "execution_count": 8,
   "id": "168f1192",
   "metadata": {},
   "outputs": [],
   "source": []
  },
  {
   "cell_type": "code",
   "execution_count": 9,
   "id": "596788db",
   "metadata": {},
   "outputs": [],
   "source": [
    "data = load_data_from_h5('SIRB_beta_0_02_01_h_0_betasymm_01.h5')"
   ]
  },
  {
   "cell_type": "code",
   "execution_count": 10,
   "id": "ad4e30f0",
   "metadata": {},
   "outputs": [
    {
     "name": "stdout",
     "output_type": "stream",
     "text": [
      "{'Simulation_0': {'ALL-data': array([[3, 1, 1, 1],\n",
      "       [3, 1, 1, 1],\n",
      "       [3, 1, 1, 1],\n",
      "       [3, 1, 1, 1],\n",
      "       [3, 1, 1, 1],\n",
      "       [3, 1, 1, 1],\n",
      "       [3, 1, 1, 1],\n",
      "       [3, 1, 1, 1],\n",
      "       [3, 1, 1, 1],\n",
      "       [3, 1, 1, 1],\n",
      "       [3, 1, 1, 1]]),\n",
      "                  'ALL-time': array([ 0,  1,  2,  3,  4,  5,  6,  7,  8,  9, -1])}}\n"
     ]
    }
   ],
   "source": [
    "import pprint\n",
    "pprint.pprint(data)"
   ]
  }
 ],
 "metadata": {
  "celltoolbar": "Initialization Cell",
  "kernelspec": {
   "display_name": "Python 3 (ipykernel)",
   "language": "python",
   "name": "python3"
  },
  "language_info": {
   "codemirror_mode": {
    "name": "ipython",
    "version": 3
   },
   "file_extension": ".py",
   "mimetype": "text/x-python",
   "name": "python",
   "nbconvert_exporter": "python",
   "pygments_lexer": "ipython3",
   "version": "3.8.16"
  },
  "toc": {
   "base_numbering": 1,
   "nav_menu": {},
   "number_sections": true,
   "sideBar": true,
   "skip_h1_title": false,
   "title_cell": "Table of Contents",
   "title_sidebar": "Contents",
   "toc_cell": false,
   "toc_position": {},
   "toc_section_display": true,
   "toc_window_display": true
  }
 },
 "nbformat": 4,
 "nbformat_minor": 5
}
