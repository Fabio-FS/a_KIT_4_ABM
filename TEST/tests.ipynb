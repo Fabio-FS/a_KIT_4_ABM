{
 "cells": [
  {
   "cell_type": "code",
   "execution_count": 2,
   "metadata": {},
   "outputs": [],
   "source": [
    "import csv\n",
    "import numpy as np\n",
    "class Result:\n",
    "    def __init__(self, value1, value2):\n",
    "        self.value1 = value1\n",
    "        self.value2 = value2\n",
    "\n",
    "\n",
    "def run_sim(parameter, i):\n",
    "    # Do something\n",
    "    value1 = i\n",
    "\n",
    "    value2 = np.ones(10)*i**2\n",
    "    return Result(value1, value2)\n",
    "\n",
    "\n",
    "def add_to_save(res, filename):\n",
    "    # Check if the file exists to determine whether to write headers\n",
    "    try:\n",
    "        with open(filename, 'r') as existing_file:\n",
    "            reader = csv.reader(existing_file)\n",
    "            file_exists = any(reader)\n",
    "    except FileNotFoundError:\n",
    "        file_exists = False\n",
    "\n",
    "    # Open the file in append mode\n",
    "    with open(filename, 'a', newline='') as csvfile:\n",
    "        fieldnames = ['parameter'] + [attr for attr in dir(res) if not callable(getattr(res, attr)) and not attr.startswith(\"__\")]\n",
    "        writer = csv.DictWriter(csvfile, fieldnames=fieldnames)\n",
    "\n",
    "        # Write headers only if the file is newly created\n",
    "        if not file_exists:\n",
    "            writer.writeheader()\n",
    "\n",
    "        # Write the data for the current result\n",
    "        row = {'parameter': \"some_parameter\"}  # Replace \"some_parameter\" with your actual parameter value\n",
    "        for attr in fieldnames[1:]:  # Skip the 'parameter' column\n",
    "            row[attr] = getattr(res, attr)\n",
    "\n",
    "        writer.writerow(row)\n",
    "\n",
    "# Example usage\n",
    "N = 10\n",
    "for i in range(N):\n",
    "    res = run_sim(\"some_parameter\", i)  # Replace \"some_parameter\" with your actual parameter value\n",
    "    add_to_save(res, \"results.csv\")"
   ]
  },
  {
   "cell_type": "code",
   "execution_count": 30,
   "metadata": {},
   "outputs": [
    {
     "name": "stdout",
     "output_type": "stream",
     "text": [
      "Loaded Results:\n",
      "Value1: 0, Value2: [0. 0. 0. 0. 0. 0. 0. 0. 0. 0.]\n",
      "Value1: 1, Value2: [1. 1. 1. 1. 1. 1. 1. 1. 1. 1.]\n",
      "Value1: 2, Value2: [4. 4. 4. 4. 4. 4. 4. 4. 4. 4.]\n",
      "Value1: 3, Value2: [9. 9. 9. 9. 9. 9. 9. 9. 9. 9.]\n",
      "Value1: 4, Value2: [16. 16. 16. 16. 16. 16. 16. 16. 16. 16.]\n",
      "Value1: 5, Value2: [25. 25. 25. 25. 25. 25. 25. 25. 25. 25.]\n",
      "Value1: 6, Value2: [36. 36. 36. 36. 36. 36. 36. 36. 36. 36.]\n",
      "Value1: 7, Value2: [49. 49. 49. 49. 49. 49. 49. 49. 49. 49.]\n",
      "Value1: 8, Value2: [64. 64. 64. 64. 64. 64. 64. 64. 64. 64.]\n",
      "Value1: 9, Value2: [81. 81. 81. 81. 81. 81. 81. 81. 81. 81.]\n"
     ]
    }
   ],
   "source": [
    "import csv\n",
    "import numpy as np\n",
    "\n",
    "def load_results(filename):\n",
    "    results = []\n",
    "\n",
    "    try:\n",
    "        with open(filename, 'r') as csvfile:\n",
    "            reader = csv.DictReader(csvfile)\n",
    "            for row in reader:\n",
    "                value1 = row['value1']  # Assuming 'value1' is a float; adjust if necessary\n",
    "                value2 = np.array([float(value) for value in row['value2'][1:-1].split()])\n",
    "                results.append(Result(value1, value2))\n",
    "    except FileNotFoundError:\n",
    "        print(f\"File {filename} not found.\")\n",
    "        return None\n",
    "\n",
    "    return results\n",
    "\n",
    "# Example usage\n",
    "filename = \"results.csv\"\n",
    "loaded_results = load_results(filename)\n",
    "\n",
    "if loaded_results is not None:\n",
    "    print(\"Loaded Results:\")\n",
    "    for result in loaded_results:\n",
    "        print(f\"Value1: {result.value1}, Value2: {result.value2}\")"
   ]
  },
  {
   "cell_type": "code",
   "execution_count": 24,
   "metadata": {},
   "outputs": [
    {
     "name": "stdout",
     "output_type": "stream",
     "text": [
      "[36.36]\n"
     ]
    },
    {
     "name": "stderr",
     "output_type": "stream",
     "text": [
      "C:\\Users\\nel_t\\AppData\\Local\\Temp\\ipykernel_20044\\3749429918.py:4: DeprecationWarning: string or file could not be read to its end due to unmatched data; this will raise a ValueError in the future.\n",
      "  array_from_string = np.fromstring(string_representation[1:-1].replace(\" \", \"\"), sep=',')\n"
     ]
    }
   ],
   "source": [
    "\n",
    "string_representation = \"[36. 36. 36. 36. 36. 36. 36. 36. 36. 36.]\"\n",
    "\n",
    "# Remove brackets and spaces, then convert to a NumPy array\n",
    "array_from_string = np.fromstring(string_representation[1:-1].replace(\" \", \"\"), sep=',')\n",
    "\n",
    "print(array_from_string)\n",
    "\n",
    "\n",
    "\n",
    "\n",
    "\n",
    "\n"
   ]
  },
  {
   "cell_type": "code",
   "execution_count": 25,
   "metadata": {},
   "outputs": [
    {
     "name": "stdout",
     "output_type": "stream",
     "text": [
      "[36. 36. 36. 36. 36. 36. 36. 36. 36. 36.]\n"
     ]
    }
   ],
   "source": [
    "array_from_string = np.array([float(value) for value in string_representation[1:-1].split()])\n",
    "\n",
    "print(array_from_string)"
   ]
  },
  {
   "cell_type": "code",
   "execution_count": 26,
   "metadata": {},
   "outputs": [
    {
     "data": {
      "text/plain": [
       "numpy.ndarray"
      ]
     },
     "execution_count": 26,
     "metadata": {},
     "output_type": "execute_result"
    }
   ],
   "source": [
    "type(array_from_string)"
   ]
  },
  {
   "cell_type": "code",
   "execution_count": 4,
   "metadata": {},
   "outputs": [],
   "source": [
    "import numpy as np\n",
    "import csv\n",
    "import os\n"
   ]
  },
  {
   "cell_type": "code",
   "execution_count": 16,
   "metadata": {},
   "outputs": [],
   "source": [
    "class Result:\n",
    "    pass\n",
    "\n",
    "res = Result()\n",
    "A = Result()\n",
    "A.data = np.array([1,2,3])\n",
    "A.time = np.array([1,2,3])*0\n",
    "\n",
    "B = Result()\n",
    "B.data = np.array([1,2,3])*2\n",
    "B.time = np.array([1,2,3])*0\n",
    "\n",
    "res.A = A\n",
    "res.B = B\n",
    "\n",
    "\n",
    "def delete_if_exist(filename):\n",
    "    if os.path.exists(filename):\n",
    "        os.remove(filename)"
   ]
  },
  {
   "cell_type": "code",
   "execution_count": 19,
   "metadata": {},
   "outputs": [],
   "source": [
    "def add_to_save(res, filename):\n",
    "    try:\n",
    "        with open(filename, 'r') as existing_file:\n",
    "            reader = csv.reader(existing_file)\n",
    "            file_exists = any(reader)\n",
    "    except FileNotFoundError:\n",
    "        file_exists = False\n",
    "\n",
    "    with open(filename, 'a', newline='') as csvfile:\n",
    "        # Extract attribute names ending with '.data'\n",
    "        fieldnames = [attr for attr in dir(res) if hasattr(getattr(res, attr), 'data')]\n",
    "        writer = csv.DictWriter(csvfile, fieldnames=fieldnames)\n",
    "\n",
    "        if not file_exists:\n",
    "            writer.writeheader()\n",
    "\n",
    "            row = {}\n",
    "            for attr in fieldnames:\n",
    "                row[attr] = getattr(getattr(res, attr), 'time')\n",
    "            writer.writerow(row)\n",
    "\n",
    "        row = {}\n",
    "        for attr in fieldnames:\n",
    "            row[attr] = getattr(getattr(res, attr), 'data')\n",
    "\n",
    "        writer.writerow(row)"
   ]
  },
  {
   "cell_type": "code",
   "execution_count": 14,
   "metadata": {},
   "outputs": [
    {
     "name": "stdout",
     "output_type": "stream",
     "text": [
      "a.data= [1 2 3]\n",
      "a.time= [0 0 0]\n",
      "b.data= [2 4 6]\n",
      "b.time= [0 0 0]\n"
     ]
    }
   ],
   "source": [
    "print(\"a.data=\",res.A.data)\n",
    "print(\"a.time=\",res.A.time)\n",
    "print(\"b.data=\",res.B.data)\n",
    "print(\"b.time=\",res.B.time)"
   ]
  },
  {
   "cell_type": "code",
   "execution_count": 20,
   "metadata": {},
   "outputs": [],
   "source": [
    "delete_if_exist(\"results.csv\")\n",
    "\n",
    "add_to_save(res, \"results.csv\")"
   ]
  },
  {
   "cell_type": "code",
   "execution_count": 64,
   "metadata": {},
   "outputs": [
    {
     "data": {
      "text/plain": [
       "array([1, 1, 1, 1])"
      ]
     },
     "execution_count": 64,
     "metadata": {},
     "output_type": "execute_result"
    }
   ],
   "source": [
    "res.A.time"
   ]
  },
  {
   "cell_type": "code",
   "execution_count": null,
   "metadata": {},
   "outputs": [],
   "source": [
    "#delete the file \"results.csv\" before running this code\n",
    "\n",
    "\n",
    "\n",
    "\n",
    "import csv\n",
    "import numpy as np\n",
    "\n"
   ]
  }
 ],
 "metadata": {
  "kernelspec": {
   "display_name": "ABM_4_KIT2",
   "language": "python",
   "name": "python3"
  },
  "language_info": {
   "codemirror_mode": {
    "name": "ipython",
    "version": 3
   },
   "file_extension": ".py",
   "mimetype": "text/x-python",
   "name": "python",
   "nbconvert_exporter": "python",
   "pygments_lexer": "ipython3",
   "version": "3.8.16"
  }
 },
 "nbformat": 4,
 "nbformat_minor": 2
}
