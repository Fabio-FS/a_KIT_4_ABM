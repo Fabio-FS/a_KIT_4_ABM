{
 "cells": [
  {
   "cell_type": "code",
   "execution_count": null,
   "metadata": {},
   "outputs": [],
   "source": [
    "# Specify the parameter values\n",
    "va_value = 0.5\n",
    "s2vh_value = 0.8\n",
    "wsp_value = 0.2\n",
    "\n",
    "# Use the %run magic command to execute the script with specified parameters\n",
    "%run RUNME --va $va_value --s2vh $s2vh_value --wsp $wsp_value"
   ]
  },
  {
   "cell_type": "code",
   "execution_count": null,
   "metadata": {},
   "outputs": [],
   "source": [
    "S = kit.load_all(\"SIRV_VA=0.5_S2Vh=0.8_WSP=0.2.h5\",\"S\")\n",
    "I = kit.load_all(\"SIRV_VA=0.5_S2Vh=0.8_WSP=0.2.h5\",\"I\")\n",
    "R = kit.load_all(\"SIRV_VA=0.5_S2Vh=0.8_WSP=0.2.h5\",\"R\")\n",
    "V = kit.load_all(\"SIRV_VA=0.5_S2Vh=0.8_WSP=0.2.h5\",\"V\") \n",
    "P = kit.load_all(\"SIRV_VA=0.5_S2Vh=0.8_WSP=0.2.h5\",\"P\")\n",
    "H = kit.load_all(\"SIRV_VA=0.5_S2Vh=0.8_WSP=0.2.h5\",\"H\")"
   ]
  },
  {
   "cell_type": "code",
   "execution_count": null,
   "metadata": {},
   "outputs": [],
   "source": [
    "data = kit.load_data_from_h5(\"SIRV_VA=0.5_S2Vh=0.8_WSP=0.2.h5\")"
   ]
  },
  {
   "cell_type": "code",
   "execution_count": null,
   "metadata": {},
   "outputs": [],
   "source": [
    "print(data[\"Simulation_1\"])\n",
    "\n",
    "S = data[\"Simulation_1\"][\"S-data\"]\n",
    "I = data[\"Simulation_1\"][\"I-data\"]\n",
    "R = data[\"Simulation_1\"][\"R-data\"]\n",
    "V = data[\"Simulation_1\"][\"V-data\"]"
   ]
  },
  {
   "cell_type": "code",
   "execution_count": null,
   "metadata": {},
   "outputs": [],
   "source": [
    "import matplotlib.pyplot as plt\n",
    "plt.plot(I[0:30],'.')"
   ]
  },
  {
   "cell_type": "code",
   "execution_count": null,
   "metadata": {},
   "outputs": [],
   "source": [
    "global_path = 'C:/Users/nel_t/Documents/WORK/PROJECTS/a_KIT_4_ABM'   # <--- CHANGE THIS PATH to the one on your computer\n",
    "code_path   = global_path + '/SRC'\n",
    "\n",
    "#global_path = 'C:/Users/nel_t/Documents/WORK/PROJECTS/a_KIT_4_ABM'   # <--- CHANGE THIS PATH to the one on your computer\n",
    "#code_path   = global_path + '/SRC'\n",
    "\n",
    "\n",
    "# import the KIT_4_ABM package\n",
    "import sys\n",
    "sys.path.append(code_path)\n",
    "import KIT_4_ABM as kit\n",
    "import numpy as np\n",
    "import argparse\n",
    "import matplotlib.pyplot as plt\n",
    " \n",
    "def reset_param(P_lay_original,P_sim_original,P_dyn_original,P_rec_original,ab):\n",
    "    P_lay = P_lay_original.copy()\n",
    "    P_dyn = P_dyn_original.copy()\n",
    "    P_sim = P_sim_original.copy()\n",
    "    P_rec = P_rec_original.copy()\n",
    "    P_dyn[\"Dynamic_0\"][\"BEHAVIOR\"][\"IC\"][\"alpha\"] = ab\n",
    "    return P_lay, P_sim, P_dyn, P_rec"
   ]
  },
  {
   "cell_type": "code",
   "execution_count": null,
   "metadata": {},
   "outputs": [],
   "source": [
    "va = 0.5\n",
    "s2vh = 0.8\n",
    "wsp = 0.2\n",
    "\n",
    "va_ff = va             # Vaccines availability\n",
    "S2V_h_ff = s2vh        # max P of vaccination\n",
    "WSP_ff = wsp           # WS probability of rewiring\n",
    "\n",
    "np.random.seed(42)\n",
    "P_lay, P_dyn, P_sim, P_rec = kit.import_parameters(\"PAR_SIRV.json\")\n",
    "P_lay[\"Layer_0\"][\"P\"] = WSP_ff\n",
    "N = 3\n",
    "d = 0.25/N\n",
    "\n",
    "range_pol = np.linspace(0+d,0.25-d, N-1)\n",
    "range_pol = np.array([0.249])\n",
    "value_ab = 1/(8*range_pol)-0.5\n",
    "\n",
    "P_rec[\"filename\"] = P_rec[\"filename\"]+ \"_VA=\" + str(va_ff)+ \"_S2Vh=\"\n",
    "P_rec[\"filename\"] = P_rec[\"filename\"] + str(S2V_h_ff) + \"_WSP=\" + str(WSP_ff) + \".h5\"\n",
    "\n",
    "P_dyn[\"Dynamic_0\"][\"VA\"] = va_ff\n",
    "\n",
    "P_lay_original = P_lay.copy()\n",
    "P_dyn_original = P_dyn.copy()\n",
    "P_sim_original = P_sim.copy()\n",
    "P_rec_original = P_rec.copy()\n",
    "\n",
    "n_trials = 1\n",
    "count = 0\n",
    "for i in range(n_trials):\n",
    "    for ab in value_ab:\n",
    "        print(\"Trial: \" + str(count) + \" of \" + str(n_trials*N), \"alpha = \" + str(ab))\n",
    "        \n",
    "        P_lay, P_sim, P_dyn, P_rec = reset_param(P_lay_original, P_sim_original, P_dyn_original, P_rec_original, ab)\n",
    "\n",
    "        res = kit.run_sim(P_lay, P_dyn, P_sim, P_rec)\n",
    "        #kit.write_h5(count, P_rec,res)\n",
    "        count += 1\n",
    "\n"
   ]
  },
  {
   "cell_type": "code",
   "execution_count": null,
   "metadata": {},
   "outputs": [],
   "source": [
    "plt.plot(1-res.R.data)"
   ]
  },
  {
   "cell_type": "code",
   "execution_count": null,
   "metadata": {},
   "outputs": [],
   "source": [
    "a = 1\n",
    "b = 2\n",
    "\n",
    "a, b = b, a\n",
    "print(a, b)"
   ]
  },
  {
   "cell_type": "code",
   "execution_count": 6,
   "metadata": {},
   "outputs": [],
   "source": [
    "import numpy as np\n",
    "\n",
    "\n",
    "\n",
    "A = np.zeros([100, 20])\n",
    "A = A[0:10, :]\n",
    "\n",
    "np.savetxt(\"test.csv\", A, delimiter=\",\")"
   ]
  },
  {
   "cell_type": "code",
   "execution_count": 5,
   "metadata": {},
   "outputs": [
    {
     "data": {
      "text/plain": [
       "20"
      ]
     },
     "execution_count": 5,
     "metadata": {},
     "output_type": "execute_result"
    }
   ],
   "source": [
    "len(A[0])"
   ]
  },
  {
   "cell_type": "code",
   "execution_count": null,
   "metadata": {},
   "outputs": [],
   "source": []
  }
 ],
 "metadata": {
  "kernelspec": {
   "display_name": "ABM_4_KIT2",
   "language": "python",
   "name": "python3"
  },
  "language_info": {
   "codemirror_mode": {
    "name": "ipython",
    "version": 3
   },
   "file_extension": ".py",
   "mimetype": "text/x-python",
   "name": "python",
   "nbconvert_exporter": "python",
   "pygments_lexer": "ipython3",
   "version": "3.8.16"
  }
 },
 "nbformat": 4,
 "nbformat_minor": 2
}
